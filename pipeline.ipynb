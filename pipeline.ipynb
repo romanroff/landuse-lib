{
 "cells": [
  {
   "cell_type": "code",
   "execution_count": null,
   "id": "4ca319ec",
   "metadata": {},
   "outputs": [],
   "source": [
    "import pickle\n",
    "import pandas as pd\n",
    "from sklearn.model_selection import train_test_split\n",
    "from land_use_lib.feature_engineering import SpatialClassifier\n",
    "\n",
    "import warnings\n",
    "warnings.filterwarnings(\"ignore\")\n",
    "pd.set_option('display.max_columns', None)"
   ]
  },
  {
   "cell_type": "code",
   "execution_count": 2,
   "id": "09c439da",
   "metadata": {},
   "outputs": [],
   "source": [
    "MERGE_DICT = {\n",
    "    'recreation': 'sp_ag_rec',\n",
    "    'special': 'sp_ag_rec',\n",
    "    'agriculture': 'sp_ag_rec',\n",
    "    'business': 'bus_res',\n",
    "    'residential': 'bus_res',\n",
    "    'industrial': 'industrial',\n",
    "    'transport': None,\n",
    "\n",
    "    'LandUse.RECREATION': 'sp_ag_rec',\n",
    "    'LandUse.SPECIAL': 'sp_ag_rec',\n",
    "    'LandUse.AGRICULTURE': 'sp_ag_rec',\n",
    "    'LandUse.BUSINESS': 'bus_res',\n",
    "    'LandUse.RESIDENTIAL': 'bus_res',\n",
    "    'LandUse.INDUSTRIAL': 'industrial',\n",
    "    'LandUse.TRANSPORT': None,    \n",
    "}"
   ]
  },
  {
   "cell_type": "code",
   "execution_count": null,
   "id": "d9e0df4a",
   "metadata": {},
   "outputs": [
    {
     "name": "stdout",
     "output_type": "stream",
     "text": [
      "['sp_ag_rec' 'bus_res' 'industrial'] (380070, 5)\n"
     ]
    }
   ],
   "source": [
    "# Загрузка данных\n",
    "with open('data/cleaned_blocks.pkl', 'rb') as f:\n",
    "    gdf = pickle.load(f)\n",
    "gdf.groupby('land_use').size().sort_values(ascending=False)\n",
    "print(gdf.land_use.unique(), gdf.shape)\n",
    "\n",
    "gdf = gdf[gdf.city == 'Saint Petersburg']\n",
    "train_gdf, test_gdf = train_test_split(gdf, test_size=0.15, random_state=42, stratify=gdf['land_use'])"
   ]
  },
  {
   "cell_type": "code",
   "execution_count": 5,
   "id": "a07fc85d",
   "metadata": {},
   "outputs": [
    {
     "name": "stderr",
     "output_type": "stream",
     "text": [
      "2025-06-20 16:01:27,003 - land_use_lib.feature_engineering - INFO - Подготовка данных для обучения\n",
      "2025-06-20 16:01:27,004 - land_use_lib.feature_engineering - INFO - Начало трансформации признаков...\n",
      "2025-06-20 16:01:27,006 - land_use_lib.feature_engineering - INFO - Количество геометрий до проверки 4908\n",
      "2025-06-20 16:01:27,109 - land_use_lib.feature_engineering - INFO - Количество геометрий после проверки 4908\n",
      "2025-06-20 16:01:29,581 - land_use_lib.feature_engineering - INFO - Подсчет близлежащих зон разных типов...\n",
      "2025-06-20 16:01:29,586 - land_use_lib.feature_engineering - INFO - Трансформация признаков завершена\n",
      "2025-06-20 16:01:29,704 - land_use_lib.feature_engineering - INFO - Обучение модели\n",
      "2025-06-20 16:01:29,705 - land_use_lib.feature_engineering - INFO - Используется 28 признаков: ['x_local', 'y_local', 'compactness', 'fractal_dimension', 'rectangularity_index', 'squareness_index', 'nearby_rec_spec_agri_count', 'nearby_bus_res_count', 'nearby_industrial_count', 'nearby_transport_count', 'context_neighbor_mean_mbr_area', 'context_neighbor_mean_solidity', 'context_neighbor_mean_compactness', 'context_neighbor_mean_shape_index', 'context_neighbor_mean_mbr_aspect_ratio', 'context_neighbor_mean_squareness_index', 'context_neighbor_mean_fractal_dimension', 'context_neighbor_mean_rectangularity_index', 'context_neighbor_mean_nearby_bus_res_count', 'context_neighbor_mean_nearby_transport_count', 'context_neighbor_mean_nearby_industrial_count', 'context_neighbor_mean_nearby_rec_spec_agri_count', 'shape_index_log', 'mbr_area_log', 'mbr_aspect_ratio_log', 'solidity_log', 'asymmetry_x_log', 'asymmetry_y_log']\n",
      "2025-06-20 16:01:29,711 - land_use_lib.feature_engineering - INFO - Данные разделены: train=3926, test=982\n",
      "2025-06-20 16:01:38,307 - land_use_lib.feature_engineering - INFO - Оценка качества модели:\n",
      "2025-06-20 16:01:38,316 - land_use_lib.feature_engineering - INFO - \n",
      "Classification Report:\n",
      "              precision    recall  f1-score   support\n",
      "\n",
      "           0       0.83      0.85      0.84       497\n",
      "           1       0.52      0.68      0.59       114\n",
      "           2       0.88      0.77      0.82       371\n",
      "\n",
      "    accuracy                           0.80       982\n",
      "   macro avg       0.74      0.77      0.75       982\n",
      "weighted avg       0.81      0.80      0.81       982\n",
      "\n"
     ]
    },
    {
     "name": "stdout",
     "output_type": "stream",
     "text": [
      "=== Confusion Matrix ===\n"
     ]
    },
    {
     "data": {
      "image/png": "[encoded data removed]",
      "text/plain": [
       "<Figure size 640x480 with 2 Axes>"
      ]
     },
     "metadata": {},
     "output_type": "display_data"
    },
    {
     "name": "stderr",
     "output_type": "stream",
     "text": [
      "2025-06-20 16:01:38,485 - land_use_lib.feature_engineering - INFO - Обучение классификатора завершено\n"
     ]
    }
   ],
   "source": [
    "# 1. Инициализация и обучение\n",
    "classifier = SpatialClassifier(buffer_distance=1000, k_neighbors=5)\n",
    "classifier.fit(train_gdf, target_col='land_use_code')"
   ]
  },
  {
   "cell_type": "code",
   "execution_count": 6,
   "id": "60c58ea9",
   "metadata": {},
   "outputs": [
    {
     "name": "stderr",
     "output_type": "stream",
     "text": [
      "2025-06-20 16:01:38,504 - land_use_lib.feature_engineering - INFO - Начало трансформации признаков...\n",
      "2025-06-20 16:01:38,507 - land_use_lib.feature_engineering - INFO - Количество геометрий до проверки 867\n",
      "2025-06-20 16:01:38,529 - land_use_lib.feature_engineering - INFO - Количество геометрий после проверки 867\n",
      "2025-06-20 16:01:38,907 - land_use_lib.feature_engineering - INFO - Подсчет близлежащих зон разных типов...\n",
      "2025-06-20 16:01:39,546 - land_use_lib.feature_engineering - INFO - Трансформация признаков завершена\n",
      "2025-06-20 16:01:39,628 - land_use_lib.feature_engineering - INFO - Предсказание для 867 объектов\n",
      "2025-06-20 16:01:39,773 - land_use_lib.feature_engineering - INFO - Начало трансформации признаков...\n",
      "2025-06-20 16:01:39,775 - land_use_lib.feature_engineering - INFO - Количество геометрий до проверки 867\n",
      "2025-06-20 16:01:39,798 - land_use_lib.feature_engineering - INFO - Количество геометрий после проверки 867\n",
      "2025-06-20 16:01:40,187 - land_use_lib.feature_engineering - INFO - Подсчет близлежащих зон разных типов...\n",
      "2025-06-20 16:01:40,857 - land_use_lib.feature_engineering - INFO - Трансформация признаков завершена\n",
      "2025-06-20 16:01:40,937 - land_use_lib.feature_engineering - INFO - Предсказание для 867 объектов\n"
     ]
    }
   ],
   "source": [
    "# 2. Предсказание на тестовых данных\n",
    "test_predictions = classifier.predict(test_gdf)\n",
    "test_probabilities = classifier.predict_proba(test_gdf)"
   ]
  },
  {
   "cell_type": "code",
   "execution_count": null,
   "id": "e1a2b70a",
   "metadata": {},
   "outputs": [],
   "source": [
    "# 3. Сохранение обучающих данных\n",
    "classifier.save_train_data('data/results/train_data.geojson')\n",
    "\n",
    "# 4. Сохранение тестовых данных с предсказаниями\n",
    "classifier.save_predictions_to_geojson(\n",
    "    test_gdf, \n",
    "    test_predictions, \n",
    "    test_probabilities,\n",
    "    'data/results/test_predictions.geojson'\n",
    ")\n",
    "\n",
    "# 5. Сохранение ошибок\n",
    "classifier.save_mistakes(test_gdf, test_predictions, 'data/results/mistakes.geojson')"
   ]
  }
 ],
 "metadata": {
  "kernelspec": {
   "display_name": ".venv",
   "language": "python",
   "name": "python3"
  },
  "language_info": {
   "codemirror_mode": {
    "name": "ipython",
    "version": 3
   },
   "file_extension": ".py",
   "mimetype": "text/x-python",
   "name": "python",
   "nbconvert_exporter": "python",
   "pygments_lexer": "ipython3",
   "version": "3.12.7"
  }
 },
 "nbformat": 4,
 "nbformat_minor": 5
}

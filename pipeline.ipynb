{
 "cells": [
  {
   "cell_type": "code",
   "execution_count": null,
   "id": "4ca319ec",
   "metadata": {},
   "outputs": [],
   "source": [
    "import pickle\n",
    "import pandas as pd\n",
    "from sklearn.model_selection import train_test_split\n",
    "from landuse_rb.classification import SpatialClassifier\n",
    "\n",
    "import warnings\n",
    "warnings.filterwarnings(\"ignore\")\n",
    "pd.set_option('display.max_columns', None)"
   ]
  },
  {
   "cell_type": "code",
   "execution_count": null,
   "id": "09c439da",
   "metadata": {},
   "outputs": [],
   "source": [
    "MERGE_DICT = {\n",
    "    'recreation': 'sp_ag_rec',\n",
    "    'special': 'sp_ag_rec',\n",
    "    'agriculture': 'sp_ag_rec',\n",
    "    'business': 'bus_res',\n",
    "    'residential': 'bus_res',\n",
    "    'industrial': 'industrial',\n",
    "    'transport': None,\n",
    "\n",
    "    'LandUse.RECREATION': 'sp_ag_rec',\n",
    "    'LandUse.SPECIAL': 'sp_ag_rec',\n",
    "    'LandUse.AGRICULTURE': 'sp_ag_rec',\n",
    "    'LandUse.BUSINESS': 'bus_res',\n",
    "    'LandUse.RESIDENTIAL': 'bus_res',\n",
    "    'LandUse.INDUSTRIAL': 'industrial',\n",
    "    'LandUse.TRANSPORT': None,    \n",
    "}"
   ]
  },
  {
   "cell_type": "code",
   "execution_count": null,
   "id": "d9e0df4a",
   "metadata": {},
   "outputs": [],
   "source": [
    "# Загрузка данных\n",
    "with open('data/cleaned_blocks.pkl', 'rb') as f:\n",
    "    gdf = pickle.load(f)\n",
    "gdf.groupby('land_use').size().sort_values(ascending=False)\n",
    "print(gdf.land_use.unique(), gdf.shape)\n",
    "\n",
    "gdf = gdf[gdf.city == 'Saint Petersburg'] # Опционально для тестового запуска\n",
    "train_gdf, test_gdf = train_test_split(gdf, test_size=0.15, random_state=42, stratify=gdf['land_use'])"
   ]
  },
  {
   "cell_type": "code",
   "execution_count": null,
   "id": "a07fc85d",
   "metadata": {},
   "outputs": [],
   "source": [
    "# 1. Инициализация и обучение\n",
    "classifier = SpatialClassifier(buffer_distance=1000, k_neighbors=5)\n",
    "classifier.fit(train_gdf, target_col='land_use_code')"
   ]
  },
  {
   "cell_type": "code",
   "execution_count": null,
   "id": "60c58ea9",
   "metadata": {},
   "outputs": [],
   "source": [
    "# 2. Предсказание на тестовых данных\n",
    "test_predictions = classifier.predict(test_gdf)\n",
    "test_probabilities = classifier.predict_proba(test_gdf)"
   ]
  },
  {
   "cell_type": "code",
   "execution_count": null,
   "id": "e1a2b70a",
   "metadata": {},
   "outputs": [],
   "source": [
    "# 3. Сохранение обучающих данных\n",
    "classifier.save_train_data('data/results/train_data.geojson')\n",
    "\n",
    "# 4. Сохранение тестовых данных с предсказаниями\n",
    "classifier.save_predictions_to_geojson(\n",
    "    test_gdf, \n",
    "    test_predictions, \n",
    "    test_probabilities,\n",
    "    'data/results/test_predictions.geojson'\n",
    ")\n",
    "\n",
    "# 5. Сохранение ошибок\n",
    "classifier.save_mistakes(test_gdf, test_predictions, 'data/results/mistakes.geojson')"
   ]
  }
 ],
 "metadata": {
  "kernelspec": {
   "display_name": ".venv",
   "language": "python",
   "name": "python3"
  },
  "language_info": {
   "codemirror_mode": {
    "name": "ipython",
    "version": 3
   },
   "file_extension": ".py",
   "mimetype": "text/x-python",
   "name": "python",
   "nbconvert_exporter": "python",
   "pygments_lexer": "ipython3",
   "version": "3.12.7"
  }
 },
 "nbformat": 4,
 "nbformat_minor": 5
}
